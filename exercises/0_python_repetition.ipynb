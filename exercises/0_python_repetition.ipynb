{
 "cells": [
  {
   "cell_type": "markdown",
   "metadata": {},
   "source": [
    "## 0. Hire IT employee data"
   ]
  },
  {
   "cell_type": "markdown",
   "metadata": {},
   "source": [
    "### a)"
   ]
  },
  {
   "cell_type": "code",
   "execution_count": 1,
   "metadata": {},
   "outputs": [
    {
     "data": {
      "text/plain": [
       "[{'employeeId': 0, 'name': 'Alice', 'department': 'HR', 'salary': 31000},\n",
       " {'employeeId': 1, 'name': 'Bob', 'department': 'IT', 'salary': 41000},\n",
       " {'employeeId': 2, 'name': 'Charlie', 'department': 'HR', 'salary': 28000}]"
      ]
     },
     "execution_count": 1,
     "metadata": {},
     "output_type": "execute_result"
    }
   ],
   "source": [
    "employeeIds = (0, 1, 2)\n",
    "names = (\"Alice\", \"Bob\", \"Charlie\")\n",
    "departments = (\"HR\", \"IT\", \"HR\")\n",
    "salaries = (31000, 41000, 28000)\n",
    "\n",
    "example_list = [{\"employeeId\" : employeeIds[i], \"name\": names[i], \"department\" : departments[i], \"salary\": salaries[i]} for i in range(3)]\n",
    "example_list"
   ]
  },
  {
   "cell_type": "markdown",
   "metadata": {},
   "source": [
    "### b)"
   ]
  },
  {
   "cell_type": "code",
   "execution_count": 2,
   "metadata": {},
   "outputs": [
    {
     "data": {
      "text/plain": [
       "{'employeeId': 1, 'name': 'Bob', 'department': 'IT', 'salary': 41000}"
      ]
     },
     "execution_count": 2,
     "metadata": {},
     "output_type": "execute_result"
    }
   ],
   "source": [
    "employee_2 = example_list[1]\n",
    "employee_2"
   ]
  },
  {
   "cell_type": "markdown",
   "metadata": {},
   "source": [
    "### c)"
   ]
  },
  {
   "cell_type": "code",
   "execution_count": 3,
   "metadata": {},
   "outputs": [
    {
     "name": "stdout",
     "output_type": "stream",
     "text": [
      "Alice works in HR and earns 31000\n",
      "Bob works in IT and earns 41000\n",
      "Charlie works in HR and earns 28000\n"
     ]
    }
   ],
   "source": [
    "for employee in example_list:\n",
    "    print(f\"{employee['name']} works in {employee['department']} and earns {employee['salary']}\")"
   ]
  },
  {
   "cell_type": "markdown",
   "metadata": {},
   "source": [
    "### d)"
   ]
  },
  {
   "cell_type": "code",
   "execution_count": 4,
   "metadata": {},
   "outputs": [
    {
     "data": {
      "text/plain": [
       "33333.333333333336"
      ]
     },
     "execution_count": 4,
     "metadata": {},
     "output_type": "execute_result"
    }
   ],
   "source": [
    "sum(e[\"salary\"] for e in example_list) / len(example_list)"
   ]
  },
  {
   "cell_type": "code",
   "execution_count": 5,
   "metadata": {},
   "outputs": [
    {
     "data": {
      "text/plain": [
       "33333"
      ]
     },
     "execution_count": 5,
     "metadata": {},
     "output_type": "execute_result"
    }
   ],
   "source": [
    "average_salary = int(sum(e[\"salary\"] for e in example_list) / len(example_list))\n",
    "average_salary"
   ]
  },
  {
   "cell_type": "markdown",
   "metadata": {},
   "source": [
    "### e)"
   ]
  },
  {
   "cell_type": "code",
   "execution_count": 6,
   "metadata": {},
   "outputs": [
    {
     "data": {
      "text/plain": [
       "29500"
      ]
     },
     "execution_count": 6,
     "metadata": {},
     "output_type": "execute_result"
    }
   ],
   "source": [
    "average_salary_HR = int(sum(e[\"salary\"] for e in example_list if e[\"department\"] == \"HR\") / 2)\n",
    "average_salary_HR"
   ]
  },
  {
   "cell_type": "code",
   "execution_count": 7,
   "metadata": {},
   "outputs": [
    {
     "name": "stdout",
     "output_type": "stream",
     "text": [
      "dict_items([('employeeId', 0), ('name', 'Alice'), ('department', 'HR'), ('salary', 31000)])\n",
      "dict_items([('employeeId', 2), ('name', 'Charlie'), ('department', 'HR'), ('salary', 28000)])\n"
     ]
    }
   ],
   "source": [
    "for employee in example_list:\n",
    "    if employee[\"department\"] == \"HR\":\n",
    "        print(employee.items())"
   ]
  },
  {
   "cell_type": "markdown",
   "metadata": {},
   "source": [
    "### f)"
   ]
  },
  {
   "cell_type": "code",
   "execution_count": 8,
   "metadata": {},
   "outputs": [
    {
     "name": "stdout",
     "output_type": "stream",
     "text": [
      "[{'employeeId': 0, 'name': 'Alice', 'department': 'HR', 'salary': 31000}, {'employeeId': 2, 'name': 'Charlie', 'department': 'HR', 'salary': 28000}]\n"
     ]
    }
   ],
   "source": [
    "HR_employees = [e for e in example_list if e[\"department\"] == \"HR\"]\n",
    "print(HR_employees)"
   ]
  },
  {
   "cell_type": "markdown",
   "metadata": {},
   "source": [
    "### g)\n"
   ]
  },
  {
   "cell_type": "code",
   "execution_count": 9,
   "metadata": {},
   "outputs": [
    {
     "name": "stdout",
     "output_type": "stream",
     "text": [
      "[{'employeeId': 0, 'name': 'Alice', 'department': 'HR', 'salary': 31000}, {'employeeId': 1, 'name': 'Bob', 'department': 'IT', 'salary': 41000}, {'employeeId': 2, 'name': 'Charlie', 'department': 'HR', 'salary': 28000}]\n"
     ]
    }
   ],
   "source": [
    "print(str(example_list))"
   ]
  },
  {
   "cell_type": "code",
   "execution_count": 10,
   "metadata": {},
   "outputs": [
    {
     "name": "stdout",
     "output_type": "stream",
     "text": [
      "['IT', 'HR']\n"
     ]
    }
   ],
   "source": [
    "res = list(set(val[\"department\"] for val in example_list))\n",
    "print(res)"
   ]
  },
  {
   "cell_type": "markdown",
   "metadata": {},
   "source": [
    "### h)"
   ]
  },
  {
   "cell_type": "code",
   "execution_count": 11,
   "metadata": {},
   "outputs": [
    {
     "name": "stdout",
     "output_type": "stream",
     "text": [
      "[{'employeeId': 0, 'name': 'Alice', 'department': 'HR', 'salary': 31000, 'age': 26}, {'employeeId': 1, 'name': 'Bob', 'department': 'IT', 'salary': 41000, 'age': 37}, {'employeeId': 2, 'name': 'Charlie', 'department': 'HR', 'salary': 28000, 'age': None}]\n"
     ]
    }
   ],
   "source": [
    "for dic, val in zip(example_list, (26, 37, None)):\n",
    "    dic.update({\"age\" : val})\n",
    "\n",
    "print(example_list)"
   ]
  },
  {
   "cell_type": "markdown",
   "metadata": {},
   "source": [
    "### i)"
   ]
  },
  {
   "cell_type": "code",
   "execution_count": 12,
   "metadata": {},
   "outputs": [],
   "source": [
    "def add_employee(emp_list, name, department, salary, age):\n",
    "    out_list = emp_list.copy()\n",
    "    new_dic = {\"employeeId\" : len(emp_list), \"name\": name, \"department\" : department, \"salary\": salary, \"age\" : age}\n",
    "    out_list.append(new_dic)\n",
    "    return out_list"
   ]
  },
  {
   "cell_type": "code",
   "execution_count": 13,
   "metadata": {},
   "outputs": [
    {
     "data": {
      "text/plain": [
       "[{'employeeId': 0,\n",
       "  'name': 'Alice',\n",
       "  'department': 'HR',\n",
       "  'salary': 31000,\n",
       "  'age': 26},\n",
       " {'employeeId': 1,\n",
       "  'name': 'Bob',\n",
       "  'department': 'IT',\n",
       "  'salary': 41000,\n",
       "  'age': 37},\n",
       " {'employeeId': 2,\n",
       "  'name': 'Charlie',\n",
       "  'department': 'HR',\n",
       "  'salary': 28000,\n",
       "  'age': None},\n",
       " {'employeeId': 3,\n",
       "  'name': 'David',\n",
       "  'department': 'IT',\n",
       "  'salary': 35000,\n",
       "  'age': 30}]"
      ]
     },
     "execution_count": 13,
     "metadata": {},
     "output_type": "execute_result"
    }
   ],
   "source": [
    "new_list = add_employee(example_list, \"David\", \"IT\", 35000, 30)\n",
    "new_list"
   ]
  },
  {
   "cell_type": "markdown",
   "metadata": {},
   "source": [
    "## 1"
   ]
  },
  {
   "cell_type": "markdown",
   "metadata": {},
   "source": [
    "### a)"
   ]
  },
  {
   "cell_type": "code",
   "execution_count": 14,
   "metadata": {},
   "outputs": [
    {
     "data": {
      "text/plain": [
       "('Pikachu', 'electric', 10)"
      ]
     },
     "execution_count": 14,
     "metadata": {},
     "output_type": "execute_result"
    }
   ],
   "source": [
    "class Pokemon:\n",
    "    def __init__(self, name, type, level) -> None:\n",
    "        self.name = name\n",
    "        self.type = type\n",
    "        self.level = level\n",
    "\n",
    "poke1 = Pokemon(\"Pikachu\", \"electric\", 10)\n",
    "poke1.name, poke1.type, poke1.level"
   ]
  },
  {
   "cell_type": "markdown",
   "metadata": {},
   "source": [
    "### b)"
   ]
  },
  {
   "cell_type": "code",
   "execution_count": 15,
   "metadata": {},
   "outputs": [
    {
     "name": "stdout",
     "output_type": "stream",
     "text": [
      "It's a lvl10 Pikachu! It's typing is electric!\n",
      "Name: Pikachu, Type: electric, Level: 10\n"
     ]
    }
   ],
   "source": [
    "class Pokemon:\n",
    "    def __init__(self, name, type, level) -> None:\n",
    "        self.name = name\n",
    "        self.type = type\n",
    "        self.level = level\n",
    "    \n",
    "    def __str__(self) -> str:\n",
    "        return f\"It's a lvl{self.level} {self.name}! It's typing is {self.type}!\"\n",
    "    \n",
    "    def __repr__(self) -> str:\n",
    "        return f\"Name: {self.name}, Type: {self.type}, Level: {self.level}\"\n",
    "        \n",
    "\n",
    "poke1 = Pokemon(\"Pikachu\", \"electric\", 10)\n",
    "print(poke1)\n",
    "print(repr(poke1))"
   ]
  },
  {
   "cell_type": "markdown",
   "metadata": {},
   "source": [
    "### c)"
   ]
  },
  {
   "cell_type": "code",
   "execution_count": 16,
   "metadata": {},
   "outputs": [],
   "source": [
    "class WaterPokemon(Pokemon):\n",
    "    def splash(self):\n",
    "        return f\"{self.name} used splash... but nothing happened\""
   ]
  },
  {
   "cell_type": "code",
   "execution_count": 17,
   "metadata": {},
   "outputs": [
    {
     "data": {
      "text/plain": [
       "Name: Squirtle, Type: water, Level: 12"
      ]
     },
     "execution_count": 17,
     "metadata": {},
     "output_type": "execute_result"
    }
   ],
   "source": [
    "poke2 = WaterPokemon(\"Squirtle\", \"water\", 12)\n",
    "\n",
    "poke2"
   ]
  },
  {
   "cell_type": "code",
   "execution_count": 18,
   "metadata": {},
   "outputs": [
    {
     "data": {
      "text/plain": [
       "'Squirtle used splash... but nothing happened'"
      ]
     },
     "execution_count": 18,
     "metadata": {},
     "output_type": "execute_result"
    }
   ],
   "source": [
    "poke2.splash()"
   ]
  },
  {
   "cell_type": "markdown",
   "metadata": {},
   "source": [
    "### d)"
   ]
  },
  {
   "cell_type": "code",
   "execution_count": 19,
   "metadata": {},
   "outputs": [],
   "source": [
    "poke3 = WaterPokemon(\"Squirtle\", \"water\", 8)\n",
    "poke4 = WaterPokemon(\"Poliwag\", \"water\", 5)"
   ]
  },
  {
   "cell_type": "markdown",
   "metadata": {},
   "source": [
    "### e)"
   ]
  },
  {
   "cell_type": "code",
   "execution_count": 20,
   "metadata": {},
   "outputs": [
    {
     "name": "stdout",
     "output_type": "stream",
     "text": [
      "Name: Squirtle, Type: water, Level: 12\n",
      "Name: Squirtle, Type: water, Level: 8\n",
      "Name: Poliwag, Type: water, Level: 5\n"
     ]
    }
   ],
   "source": [
    "pokes = (poke2, poke3, poke4)\n",
    "for p in pokes:\n",
    "    print((repr(p)))"
   ]
  },
  {
   "cell_type": "markdown",
   "metadata": {},
   "source": [
    "### f)"
   ]
  },
  {
   "cell_type": "code",
   "execution_count": 30,
   "metadata": {},
   "outputs": [
    {
     "name": "stdout",
     "output_type": "stream",
     "text": [
      "It's a lvl10 Pikachu! It's typing is electric and it has 50HP!\n",
      "Name: Pikachu, Type: electric, Level: 10, HP: 50\n"
     ]
    }
   ],
   "source": [
    "class Pokemon:\n",
    "    def __init__(self, name, type, level, health_points) -> None:\n",
    "        self.name = name\n",
    "        self.type = type\n",
    "        self.level = level\n",
    "        self.health_points = health_points\n",
    "        self.fainted = False\n",
    "\n",
    "    def __str__(self) -> str:\n",
    "        if self.fainted == False:\n",
    "            return f\"It's a lvl{self.level} {self.name}! It's typing is {self.type} and it has {self.health_points}HP!\"\n",
    "        else:\n",
    "            return f\"It's a fainted lvl{self.level} {self.name}! It's typing is {self.type}!\"\n",
    "    \n",
    "    def __repr__(self) -> str:\n",
    "        return f\"Name: {self.name}, Type: {self.type}, Level: {self.level}, HP: {self.health_points}\" \n",
    "    \n",
    "    def __take_damage(self, damage):\n",
    "        if self.health_points > damage:\n",
    "            self.health_points = self.health_points - damage\n",
    "            return False\n",
    "        else:\n",
    "            self.health_points = 0\n",
    "            self.fainted = True\n",
    "            return True\n",
    "\n",
    "    def attack(self, poke):\n",
    "        attack_dmg = self.level*2\n",
    "        status = poke.__take_damage(attack_dmg)\n",
    "        print(f\"{self.name} attacks {poke.name} for {attack_dmg} damage! Leaving {poke.name}'s HP at {poke.health_points}\")\n",
    "        if status == True :\n",
    "            print(f\"{poke.name} fainted!\")\n",
    "\n",
    "\n",
    "poke1 = Pokemon(\"Pikachu\", \"electric\", 10, 50)\n",
    "print(poke1)\n",
    "print(repr(poke1))"
   ]
  },
  {
   "cell_type": "code",
   "execution_count": 31,
   "metadata": {},
   "outputs": [
    {
     "name": "stdout",
     "output_type": "stream",
     "text": [
      "It's a lvl15 Snorlax! It's typing is normal and it has 75HP!\n"
     ]
    }
   ],
   "source": [
    "poke2 = Pokemon(\"Snorlax\", \"normal\", 15, 75)\n",
    "print(poke2)"
   ]
  },
  {
   "cell_type": "code",
   "execution_count": 33,
   "metadata": {},
   "outputs": [
    {
     "name": "stdout",
     "output_type": "stream",
     "text": [
      "Snorlax attacks Pikachu for 30 damage! Leaving Pikachu's HP at 0\n",
      "Pikachu fainted!\n"
     ]
    }
   ],
   "source": [
    "poke2.attack(poke1)"
   ]
  },
  {
   "cell_type": "code",
   "execution_count": 34,
   "metadata": {},
   "outputs": [
    {
     "name": "stdout",
     "output_type": "stream",
     "text": [
      "It's a fainted lvl10 Pikachu! It's typing is electric!\n"
     ]
    }
   ],
   "source": [
    "print(poke1)"
   ]
  },
  {
   "cell_type": "code",
   "execution_count": null,
   "metadata": {},
   "outputs": [],
   "source": []
  }
 ],
 "metadata": {
  "kernelspec": {
   "display_name": ".venv",
   "language": "python",
   "name": "python3"
  },
  "language_info": {
   "codemirror_mode": {
    "name": "ipython",
    "version": 3
   },
   "file_extension": ".py",
   "mimetype": "text/x-python",
   "name": "python",
   "nbconvert_exporter": "python",
   "pygments_lexer": "ipython3",
   "version": "3.11.7"
  }
 },
 "nbformat": 4,
 "nbformat_minor": 2
}
