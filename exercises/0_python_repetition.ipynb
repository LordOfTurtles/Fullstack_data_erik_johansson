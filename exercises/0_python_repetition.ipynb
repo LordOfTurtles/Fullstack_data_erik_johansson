{
 "cells": [
  {
   "cell_type": "markdown",
   "metadata": {},
   "source": [
    "## 0. Hire IT employee data"
   ]
  },
  {
   "cell_type": "markdown",
   "metadata": {},
   "source": [
    "### a)"
   ]
  },
  {
   "cell_type": "code",
   "execution_count": 1,
   "metadata": {},
   "outputs": [
    {
     "data": {
      "text/plain": [
       "[{'employeeId': 0, 'name': 'Alice', 'department': 'HR', 'salary': 31000},\n",
       " {'employeeId': 1, 'name': 'Bob', 'department': 'IT', 'salary': 41000},\n",
       " {'employeeId': 2, 'name': 'Charlie', 'department': 'HR', 'salary': 28000}]"
      ]
     },
     "execution_count": 1,
     "metadata": {},
     "output_type": "execute_result"
    }
   ],
   "source": [
    "employeeIds = (0, 1, 2)\n",
    "names = (\"Alice\", \"Bob\", \"Charlie\")\n",
    "departments = (\"HR\", \"IT\", \"HR\")\n",
    "salaries = (31000, 41000, 28000)\n",
    "\n",
    "example_list = [{\"employeeId\" : employeeIds[i], \"name\": names[i], \"department\" : departments[i], \"salary\": salaries[i]} for i in range(3)]\n",
    "example_list"
   ]
  },
  {
   "cell_type": "markdown",
   "metadata": {},
   "source": []
  }
 ],
 "metadata": {
  "kernelspec": {
   "display_name": ".venv",
   "language": "python",
   "name": "python3"
  },
  "language_info": {
   "codemirror_mode": {
    "name": "ipython",
    "version": 3
   },
   "file_extension": ".py",
   "mimetype": "text/x-python",
   "name": "python",
   "nbconvert_exporter": "python",
   "pygments_lexer": "ipython3",
   "version": "3.11.7"
  }
 },
 "nbformat": 4,
 "nbformat_minor": 2
}
